{
 "cells": [
  {
   "cell_type": "code",
   "execution_count": 2,
   "metadata": {},
   "outputs": [],
   "source": [
    "import pandas as pd\n",
    "import os"
   ]
  },
  {
   "cell_type": "code",
   "execution_count": 43,
   "metadata": {},
   "outputs": [],
   "source": [
    "\n",
    "df1 = pd.read_csv(os.path.join('datos','df_baleno.csv'))\n",
    "df2 = pd.read_csv(os.path.join('datos','df_honda_crv.csv'))\n",
    "df3 = pd.read_csv(os.path.join('datos','df_honda_wrv.csv'))\n",
    "df4 = pd.read_csv(os.path.join('datos','df_kia_rio5.csv'))\n",
    "df5 = pd.read_csv(os.path.join('datos','df_mazda2.csv'))\n",
    "df6 = pd.read_csv(os.path.join('datos','df_mazda3.csv'))\n",
    "df7 = pd.read_csv(os.path.join('datos','df_mg3.csv'))\n",
    "df8 = pd.read_csv(os.path.join('datos','df_tiggo2.csv'))\n",
    "lista = [df1, df2, df3, df4, df5, df6, df7, df8]\n",
    "for i in lista:\n",
    "    i.drop_duplicates(inplace=True)\n",
    "    i.dropna(subset=['Marca'],inplace=True)\n",
    "    i.dropna(subset=['Modelo'],inplace=True)\n",
    "    i.dropna(subset=['Año'],inplace=True)\n",
    "    i.dropna(subset=['Kilometraje'],inplace=True)\n",
    "    i.dropna(subset=['Transmision'],inplace=True)\n",
    "    i.dropna(subset=['Precio'],inplace=True)\n",
    "    i.reset_index(inplace=True)\n",
    "    i.drop(columns=['index'], inplace=True)\n",
    "    i['Transmision'] = i['Transmision'].str.replace('Manual','1')\n",
    "    i['Transmision'] = i['Transmision'].str.replace('Automática','2')\n",
    "    i['Kilometraje'] = i['Kilometraje'].str.replace('km','')\n",
    "    i['Kilometraje'] = i['Kilometraje'].str.replace(',','')\n",
    "    i['Kilometraje'] = i['Kilometraje'].astype('int')\n",
    "    i['Transmision'] = i['Transmision'].str.replace(' ','')\n",
    "    i['Transmision'] = i['Transmision'].astype('int')\n",
    "    i['Precio'] = i['Precio'].astype('int')\n",
    "    i['Año'] = i['Año'].astype('int')\n",
    "df1['Modelo'] = df1['Modelo'].str.replace('2','baleno')\n",
    "df4['Modelo'] = df4['Modelo'].astype('str')\n",
    "df4['Modelo'] = df4['Modelo'].str.replace('2','rio5')\n",
    "df8['Modelo'] = df8['Modelo'].astype('str')\n",
    "df8['Modelo'] = df8['Modelo'].str.replace('2','tiggo-2')\n",
    "dfAutos = pd.concat(lista)\n",
    "dfAutos.reset_index(inplace=True)\n",
    "dfAutos.drop(columns=['index'], inplace=True)\n",
    "dfAutos.to_csv('df_limpio',index=False)"
   ]
  },
  {
   "cell_type": "markdown",
   "metadata": {},
   "source": [
    "Transmision:\n",
    "Manual = 1\n",
    "Automatica = 2"
   ]
  }
 ],
 "metadata": {
  "kernelspec": {
   "display_name": "Python 3.9.12 ('base')",
   "language": "python",
   "name": "python3"
  },
  "language_info": {
   "codemirror_mode": {
    "name": "ipython",
    "version": 3
   },
   "file_extension": ".py",
   "mimetype": "text/x-python",
   "name": "python",
   "nbconvert_exporter": "python",
   "pygments_lexer": "ipython3",
   "version": "3.9.12"
  },
  "orig_nbformat": 4,
  "vscode": {
   "interpreter": {
    "hash": "da38062997892a68ae88df3a1549a85ff68f4e3a875c1f51aead31b07f2af4c3"
   }
  }
 },
 "nbformat": 4,
 "nbformat_minor": 2
}
