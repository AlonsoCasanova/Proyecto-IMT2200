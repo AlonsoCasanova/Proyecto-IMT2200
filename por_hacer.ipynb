{
 "cells": [
  {
   "cell_type": "markdown",
   "metadata": {},
   "source": [
    "## Por hacer\n",
    "1. Limpieza de Datos\n",
    "    - Pasar a datos numéricos\n",
    "    - Correr reemplazar_km de limpiar_datos en todos los dataframes\n",
    "    - Cambiar modelo de Mazda 3(cambiar de 2 a 3)\n",
    "    - Cambiar modelo de Chery Tiggo-2(cambiar de 2 a tiggo-2)"
   ]
  },
  {
   "cell_type": "markdown",
   "metadata": {},
   "source": [
    "2. Análisis de Datos\n",
    "    - Matriz de correlación(sns.heatmap)\n",
    "        - No tiene mucho sentido porque las escalas de los datos son muy distintas, no se entiende nada\n",
    "    - Probar con regresión lineal, ridge, lasso y polinomial. Luego comparar modelos\n",
    "    - Análisis por Componentes Principales\n",
    "    - Agrupar todos los datos en clústers, otra forma de estimar precios.\n",
    "\n",
    "\n",
    "Idea:\n",
    "1. Agrupar por clústering precios\n",
    "2. Graficamos eso"
   ]
  },
  {
   "cell_type": "markdown",
   "metadata": {},
   "source": [
    "3. Webscrapping\n",
    "    - Intentar sacar info de cada publicación, no creo que sea necesario ya"
   ]
  },
  {
   "cell_type": "markdown",
   "metadata": {},
   "source": [
    "4. Definir marcas y modelos a estudiar\n",
    "    - Grupo 1:\n",
    "        - Hyundai grand i10\n",
    "\n",
    "El problema con autos con nombre de modelo igual a una sola letra es que se confunde con año\n",
    "    - Hay que cambiar la función get_modelo"
   ]
  },
  {
   "cell_type": "code",
   "execution_count": null,
   "metadata": {},
   "outputs": [],
   "source": []
  }
 ],
 "metadata": {
  "kernelspec": {
   "display_name": "Python 3.8.10 64-bit",
   "language": "python",
   "name": "python3"
  },
  "language_info": {
   "name": "python",
   "version": "3.8.10"
  },
  "orig_nbformat": 4,
  "vscode": {
   "interpreter": {
    "hash": "2347b4e3a748f59f96d620d1fd9c83bf1e5b9fb8db506203cdc60ffbdfaee119"
   }
  }
 },
 "nbformat": 4,
 "nbformat_minor": 2
}
